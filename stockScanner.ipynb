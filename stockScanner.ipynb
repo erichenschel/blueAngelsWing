{
 "cells": [
  {
   "cell_type": "code",
   "execution_count": null,
   "metadata": {},
   "outputs": [],
   "source": [
    "# Stocks Symbol List Data Source: https://datahub.io/core/nyse-other-listings#python\n",
    "# Stock Data Source: FinnHub"
   ]
  },
  {
   "cell_type": "code",
   "execution_count": 1,
   "metadata": {},
   "outputs": [],
   "source": [
    "# packages\n",
    "# data\n",
    "import finnhub\n",
    "from datapackage import Package\n",
    "import yfinance as yf\n",
    "\n",
    "# scientific\n",
    "import numpy as np\n",
    "import pandas as pd\n",
    "import matplotlib.pyplot as plt\n",
    "\n",
    "# utils\n",
    "import time\n",
    "import requests\n",
    "import json\n",
    "\n"
   ]
  },
  {
   "cell_type": "code",
   "execution_count": null,
   "metadata": {},
   "outputs": [],
   "source": [
    "################################################################################################"
   ]
  },
  {
   "cell_type": "code",
   "execution_count": null,
   "metadata": {},
   "outputs": [],
   "source": [
    "# Gathering data from https://datahub.io/core/nyse-other-listings#python \n",
    "# -- on 01.12.2021 8497 symbols were captured\n",
    "# stocks = []\n",
    "# package = Package('https://datahub.io/core/nyse-other-listings/datapackage.json')\n",
    "\n",
    "# # print list of all resources:\n",
    "# # print(package.resource_names)\n",
    "\n",
    "# # print processed tabular data (if exists any)\n",
    "# for resource in package.resources:\n",
    "#     if resource.descriptor['datahub']['type'] == 'derived/csv':\n",
    "#         for entry in resource.read():\n",
    "#             stocks.append(entry[0])"
   ]
  },
  {
   "cell_type": "code",
   "execution_count": 10,
   "metadata": {},
   "outputs": [],
   "source": [
    "# EXTRA SYMBOLS\n",
    "weed_stocks = [\"GRWG\", \"JUSHF\", \"CRLBF\", \"HRVSF\", \"MJ\", \"CURLF\", \"CGC\", \"CRON\", \"MEDIF\"]\n",
    "\n",
    "tech_stocks = [\"SNE\", \"XRX\", \"CSCO\", \"SIRI\", \"ROKU\", \"ATVI\", \"EA\", \"VZ\", \"T\", \"TMUS\", \"AMAT\",\n",
    "              \"TXN\", \"MU\", \"FB\", \"MSFT\", \"SNAP\", \"AMZN\", \"TWTR\", \"AMD\", \"QCOM\", \"AVGO\", \"AAPL\",\n",
    "              \"INTC\", \"NVDA\", \"NFLX\", \"ORCL\", \"IBM\"]\n",
    "\n",
    "fin_stocks = [\"AXP\", \"V\", \"MA\", \"JPM\", \"DFS\", \"MS\", \"BAC\", \"GS\", \"SQ\", \"PYPL\", \"GDOT\", \"AMP\"]\n",
    "\n",
    "energy_stocks = [\"NGG\", \"PCG\", \"RDS-B\", \"OXY\", \"MRO\", \"DD\", \"CVX\", \"DOW\", \"XOM\", \"PSX\", \"COP\", \n",
    "              \"HAL\", \"PLUG\"]\n",
    "\n",
    "travel_stocks = [\"LUV\", \"MAR\", \"ABNB\", \"CCL\", \"RCL\", \"DIS\", \"AAL\", \"JBLU\", \"SAVE\", \"DAL\", \"HLT\"]\n",
    "\n",
    "food_consumer_stocks = [\"DRI\", \"GIS\", \"NKE\", \"PG\", \"SHAK\", \"GRUB\", \"KDP\", \"PEP\", \"KO\", \"K\", \"QSR\", \"CMG\",\n",
    "              \"YUM\", \"BGS\", \"ACI\", \"DAR\", \"KR\", \"GE\", \"GOOS\", \"HD\", \"LOW\", \"LULU\", \"DPZ\", \"SBUX\", \"MMM\",\n",
    "              \"WMT\", \"TGT\", \"COST\", \"JACK\", \"MCD\", \"UBER\", \"GME\"]\n",
    "\n",
    "pharma_stocks = [\"CVS\", \"RAD\", \"UNH\", \"LLY\", \"JNJ\", \"BMY\", \"AZN\", \"MRK\", \"ABBV\", \"GILD\", \"PFE\"]\n",
    "\n",
    "defense_infra_stocks = [\"GD\", \"LMT\", \"NOC\", \"BA\", \"CAT\", \"WM\"]\n",
    "\n",
    "auto_stocks = [\"HMC\", \"TM\", \"F\", \"TSLA\", \"GM\"]\n",
    "\n",
    "misc_stocks = [\"ISR\"]\n",
    "\n",
    "all_stocks = (weed_stocks + tech_stocks + fin_stocks + energy_stocks \n",
    "                + travel_stocks + food_consumer_stocks + pharma_stocks \n",
    "                + defense_infra_stocks + auto_stocks + misc_stocks)\n",
    "\n",
    "# pd.DataFrame(all_stocks).to_csv('./data/all_stocks.csv', index=False)\n",
    "\n",
    "# excluding pharma\n",
    "# all_stocks = (weed_stocks + tech_stocks + fin_stocks + energy_stocks \n",
    "#               + travel_stocks + food_consumer_stocks + defense_infra_stocks \n",
    "#               + auto_stocks + misc_stocks)\n",
    "\n",
    "# for symb in all_stocks:\n",
    "#     if str(symb) not in stocks:\n",
    "#         stocks.append(str(symb))"
   ]
  },
  {
   "cell_type": "code",
   "execution_count": null,
   "metadata": {},
   "outputs": [],
   "source": [
    "# scrubbing data of symbols which contain bad_chars = [\"$\", \";\", \":\", \"!\", \"*\", \".\"]\n",
    "# -- run until there is no more output\n",
    "# bad_chars = [\"$\", \";\", \":\", \"!\", \"*\", \".\"]\n",
    "\n",
    "# for s in stocks:\n",
    "#     for char in bad_chars:\n",
    "#         if char in str(s):\n",
    "#             print(s)\n",
    "#             stocks.remove(str(s))"
   ]
  },
  {
   "cell_type": "code",
   "execution_count": 3,
   "metadata": {},
   "outputs": [
    {
     "data": {
      "text/plain": [
       "127"
      ]
     },
     "metadata": {},
     "output_type": "display_data"
    }
   ],
   "source": [
    "display(len(all_stocks))"
   ]
  },
  {
   "cell_type": "code",
   "execution_count": null,
   "metadata": {},
   "outputs": [],
   "source": [
    "################################################################################################"
   ]
  },
  {
   "cell_type": "code",
   "execution_count": 18,
   "metadata": {},
   "outputs": [
    {
     "data": {
      "text/plain": [
       "634"
      ]
     },
     "metadata": {},
     "output_type": "display_data"
    }
   ],
   "source": [
    "df = {}\n",
    "count = 1\n",
    "repeat = []\n",
    "s_p = pd.read_csv('/Users/erichenschel/Documents/Projects/blueAngelsWing/data/s_p_500.csv')\n",
    "s_p_symb = s_p['Symbol'].to_list()\n",
    "total = s_p_symb + all_stocks\n",
    "display(len(total))"
   ]
  },
  {
   "cell_type": "code",
   "execution_count": 20,
   "metadata": {},
   "outputs": [
    {
     "data": {
      "text/plain": [
       "{'error': 'API limit reached. Please try again later. Remaining Limit: 0'}"
      ]
     },
     "metadata": {},
     "output_type": "display_data"
    },
    {
     "data": {
      "text/plain": [
       "'BKR'"
      ]
     },
     "metadata": {},
     "output_type": "display_data"
    },
    {
     "data": {
      "text/plain": [
       "{'error': 'API limit reached. Please try again later. Remaining Limit: 0'}"
      ]
     },
     "metadata": {},
     "output_type": "display_data"
    },
    {
     "data": {
      "text/plain": [
       "'BLL'"
      ]
     },
     "metadata": {},
     "output_type": "display_data"
    },
    {
     "data": {
      "text/plain": [
       "{'error': 'API limit reached. Please try again later. Remaining Limit: 0'}"
      ]
     },
     "metadata": {},
     "output_type": "display_data"
    },
    {
     "data": {
      "text/plain": [
       "'STZ'"
      ]
     },
     "metadata": {},
     "output_type": "display_data"
    },
    {
     "data": {
      "text/plain": [
       "{'error': 'API limit reached. Please try again later. Remaining Limit: 0'}"
      ]
     },
     "metadata": {},
     "output_type": "display_data"
    },
    {
     "data": {
      "text/plain": [
       "'CPRT'"
      ]
     },
     "metadata": {},
     "output_type": "display_data"
    },
    {
     "data": {
      "text/plain": [
       "{'error': 'API limit reached. Please try again later. Remaining Limit: 0'}"
      ]
     },
     "metadata": {},
     "output_type": "display_data"
    },
    {
     "data": {
      "text/plain": [
       "'FAST'"
      ]
     },
     "metadata": {},
     "output_type": "display_data"
    },
    {
     "data": {
      "text/plain": [
       "{'error': 'API limit reached. Please try again later. Remaining Limit: 0'}"
      ]
     },
     "metadata": {},
     "output_type": "display_data"
    },
    {
     "data": {
      "text/plain": [
       "'FRT'"
      ]
     },
     "metadata": {},
     "output_type": "display_data"
    },
    {
     "data": {
      "text/plain": [
       "{'error': 'API limit reached. Please try again later. Remaining Limit: 0'}"
      ]
     },
     "metadata": {},
     "output_type": "display_data"
    },
    {
     "data": {
      "text/plain": [
       "'INTC'"
      ]
     },
     "metadata": {},
     "output_type": "display_data"
    },
    {
     "data": {
      "text/plain": [
       "{'error': 'API limit reached. Please try again later. Remaining Limit: 0'}"
      ]
     },
     "metadata": {},
     "output_type": "display_data"
    },
    {
     "data": {
      "text/plain": [
       "'ICE'"
      ]
     },
     "metadata": {},
     "output_type": "display_data"
    },
    {
     "data": {
      "text/plain": [
       "{'error': 'API limit reached. Please try again later. Remaining Limit: 0'}"
      ]
     },
     "metadata": {},
     "output_type": "display_data"
    },
    {
     "data": {
      "text/plain": [
       "'MDT'"
      ]
     },
     "metadata": {},
     "output_type": "display_data"
    },
    {
     "data": {
      "text/plain": [
       "{'error': 'API limit reached. Please try again later. Remaining Limit: 0'}"
      ]
     },
     "metadata": {},
     "output_type": "display_data"
    },
    {
     "data": {
      "text/plain": [
       "'MRK'"
      ]
     },
     "metadata": {},
     "output_type": "display_data"
    },
    {
     "data": {
      "text/plain": [
       "{'error': 'API limit reached. Please try again later. Remaining Limit: 0'}"
      ]
     },
     "metadata": {},
     "output_type": "display_data"
    },
    {
     "data": {
      "text/plain": [
       "'PXD'"
      ]
     },
     "metadata": {},
     "output_type": "display_data"
    },
    {
     "data": {
      "text/plain": [
       "{'error': 'API limit reached. Please try again later. Remaining Limit: 0'}"
      ]
     },
     "metadata": {},
     "output_type": "display_data"
    },
    {
     "data": {
      "text/plain": [
       "'PNC'"
      ]
     },
     "metadata": {},
     "output_type": "display_data"
    },
    {
     "data": {
      "text/plain": [
       "{'error': 'API limit reached. Please try again later. Remaining Limit: 0'}"
      ]
     },
     "metadata": {},
     "output_type": "display_data"
    },
    {
     "data": {
      "text/plain": [
       "'FTI'"
      ]
     },
     "metadata": {},
     "output_type": "display_data"
    },
    {
     "data": {
      "text/plain": [
       "{'error': 'API limit reached. Please try again later. Remaining Limit: 0'}"
      ]
     },
     "metadata": {},
     "output_type": "display_data"
    },
    {
     "data": {
      "text/plain": [
       "'TDY'"
      ]
     },
     "metadata": {},
     "output_type": "display_data"
    },
    {
     "data": {
      "text/plain": [
       "{'error': 'API limit reached. Please try again later. Remaining Limit: 0'}"
      ]
     },
     "metadata": {},
     "output_type": "display_data"
    },
    {
     "data": {
      "text/plain": [
       "'WLTW'"
      ]
     },
     "metadata": {},
     "output_type": "display_data"
    },
    {
     "data": {
      "text/plain": [
       "{'error': 'API limit reached. Please try again later. Remaining Limit: 0'}"
      ]
     },
     "metadata": {},
     "output_type": "display_data"
    },
    {
     "data": {
      "text/plain": [
       "'WYNN'"
      ]
     },
     "metadata": {},
     "output_type": "display_data"
    },
    {
     "data": {
      "text/plain": [
       "{'metric': {}, 'metricType': 'all', 'series': {}, 'symbol': 'MJ'}"
      ]
     },
     "metadata": {},
     "output_type": "display_data"
    },
    {
     "data": {
      "text/plain": [
       "'MJ'"
      ]
     },
     "metadata": {},
     "output_type": "display_data"
    },
    {
     "data": {
      "text/plain": [
       "{'error': 'API limit reached. Please try again later. Remaining Limit: 0'}"
      ]
     },
     "metadata": {},
     "output_type": "display_data"
    },
    {
     "data": {
      "text/plain": [
       "'OXY'"
      ]
     },
     "metadata": {},
     "output_type": "display_data"
    },
    {
     "data": {
      "text/plain": [
       "{'error': 'API limit reached. Please try again later. Remaining Limit: 0'}"
      ]
     },
     "metadata": {},
     "output_type": "display_data"
    },
    {
     "data": {
      "text/plain": [
       "'ABBV'"
      ]
     },
     "metadata": {},
     "output_type": "display_data"
    },
    {
     "data": {
      "text/plain": [
       "{'error': 'API limit reached. Please try again later. Remaining Limit: 0'}"
      ]
     },
     "metadata": {},
     "output_type": "display_data"
    },
    {
     "data": {
      "text/plain": [
       "'GILD'"
      ]
     },
     "metadata": {},
     "output_type": "display_data"
    },
    {
     "data": {
      "text/plain": [
       "{'metric': {},\n",
       " 'metricType': 'all',\n",
       " 'series': {},\n",
       " 'symbol': '    Symbol                    Name                  Sector\\n0      MMM              3M Company             Industrials\\n1      AOS         A.O. Smith Corp             Industrials\\n2      ABT     Abbott Laboratories             Health Care\\n3     ABBV             AbbVie Inc.             Health Care\\n4     ABMD             ABIOMED Inc             Health Care\\n..     ...                     ...                     ...\\n500    YUM         Yum! Brands Inc  Consumer Discretionary\\n501   ZBRA      Zebra Technologies  Information Technology\\n502    ZBH  Zimmer Biomet Holdings             Health Care\\n503   ZION           Zions Bancorp              Financials\\n504    ZTS                  Zoetis             Health Care\\n\\n[505 rows x 3 columns]'}"
      ]
     },
     "metadata": {},
     "output_type": "display_data"
    },
    {
     "data": {
      "text/html": [
       "<div>\n",
       "<style scoped>\n",
       "    .dataframe tbody tr th:only-of-type {\n",
       "        vertical-align: middle;\n",
       "    }\n",
       "\n",
       "    .dataframe tbody tr th {\n",
       "        vertical-align: top;\n",
       "    }\n",
       "\n",
       "    .dataframe thead th {\n",
       "        text-align: right;\n",
       "    }\n",
       "</style>\n",
       "<table border=\"1\" class=\"dataframe\">\n",
       "  <thead>\n",
       "    <tr style=\"text-align: right;\">\n",
       "      <th></th>\n",
       "      <th>Symbol</th>\n",
       "      <th>Name</th>\n",
       "      <th>Sector</th>\n",
       "    </tr>\n",
       "  </thead>\n",
       "  <tbody>\n",
       "    <tr>\n",
       "      <th>0</th>\n",
       "      <td>MMM</td>\n",
       "      <td>3M Company</td>\n",
       "      <td>Industrials</td>\n",
       "    </tr>\n",
       "    <tr>\n",
       "      <th>1</th>\n",
       "      <td>AOS</td>\n",
       "      <td>A.O. Smith Corp</td>\n",
       "      <td>Industrials</td>\n",
       "    </tr>\n",
       "    <tr>\n",
       "      <th>2</th>\n",
       "      <td>ABT</td>\n",
       "      <td>Abbott Laboratories</td>\n",
       "      <td>Health Care</td>\n",
       "    </tr>\n",
       "    <tr>\n",
       "      <th>3</th>\n",
       "      <td>ABBV</td>\n",
       "      <td>AbbVie Inc.</td>\n",
       "      <td>Health Care</td>\n",
       "    </tr>\n",
       "    <tr>\n",
       "      <th>4</th>\n",
       "      <td>ABMD</td>\n",
       "      <td>ABIOMED Inc</td>\n",
       "      <td>Health Care</td>\n",
       "    </tr>\n",
       "    <tr>\n",
       "      <th>...</th>\n",
       "      <td>...</td>\n",
       "      <td>...</td>\n",
       "      <td>...</td>\n",
       "    </tr>\n",
       "    <tr>\n",
       "      <th>500</th>\n",
       "      <td>YUM</td>\n",
       "      <td>Yum! Brands Inc</td>\n",
       "      <td>Consumer Discretionary</td>\n",
       "    </tr>\n",
       "    <tr>\n",
       "      <th>501</th>\n",
       "      <td>ZBRA</td>\n",
       "      <td>Zebra Technologies</td>\n",
       "      <td>Information Technology</td>\n",
       "    </tr>\n",
       "    <tr>\n",
       "      <th>502</th>\n",
       "      <td>ZBH</td>\n",
       "      <td>Zimmer Biomet Holdings</td>\n",
       "      <td>Health Care</td>\n",
       "    </tr>\n",
       "    <tr>\n",
       "      <th>503</th>\n",
       "      <td>ZION</td>\n",
       "      <td>Zions Bancorp</td>\n",
       "      <td>Financials</td>\n",
       "    </tr>\n",
       "    <tr>\n",
       "      <th>504</th>\n",
       "      <td>ZTS</td>\n",
       "      <td>Zoetis</td>\n",
       "      <td>Health Care</td>\n",
       "    </tr>\n",
       "  </tbody>\n",
       "</table>\n",
       "<p>505 rows × 3 columns</p>\n",
       "</div>"
      ],
      "text/plain": [
       "    Symbol                    Name                  Sector\n",
       "0      MMM              3M Company             Industrials\n",
       "1      AOS         A.O. Smith Corp             Industrials\n",
       "2      ABT     Abbott Laboratories             Health Care\n",
       "3     ABBV             AbbVie Inc.             Health Care\n",
       "4     ABMD             ABIOMED Inc             Health Care\n",
       "..     ...                     ...                     ...\n",
       "500    YUM         Yum! Brands Inc  Consumer Discretionary\n",
       "501   ZBRA      Zebra Technologies  Information Technology\n",
       "502    ZBH  Zimmer Biomet Holdings             Health Care\n",
       "503   ZION           Zions Bancorp              Financials\n",
       "504    ZTS                  Zoetis             Health Care\n",
       "\n",
       "[505 rows x 3 columns]"
      ]
     },
     "metadata": {},
     "output_type": "display_data"
    },
    {
     "ename": "KeyboardInterrupt",
     "evalue": "",
     "output_type": "error",
     "traceback": [
      "\u001b[0;31m---------------------------------------------------------------------------\u001b[0m",
      "\u001b[0;31mKeyError\u001b[0m                                  Traceback (most recent call last)",
      "\u001b[0;32m<ipython-input-20-e0effd97b608>\u001b[0m in \u001b[0;36m<module>\u001b[0;34m\u001b[0m\n\u001b[1;32m     11\u001b[0m \u001b[0;34m\u001b[0m\u001b[0m\n\u001b[0;32m---> 12\u001b[0;31m         \u001b[0mbeta\u001b[0m \u001b[0;34m=\u001b[0m \u001b[0mmetrics\u001b[0m\u001b[0;34m[\u001b[0m\u001b[0;34m\"beta\"\u001b[0m\u001b[0;34m]\u001b[0m\u001b[0;34m\u001b[0m\u001b[0;34m\u001b[0m\u001b[0m\n\u001b[0m\u001b[1;32m     13\u001b[0m         \u001b[0mvol\u001b[0m \u001b[0;34m=\u001b[0m \u001b[0mmetrics\u001b[0m\u001b[0;34m[\u001b[0m\u001b[0;34m\"10DayAverageTradingVolume\"\u001b[0m\u001b[0;34m]\u001b[0m\u001b[0;34m\u001b[0m\u001b[0;34m\u001b[0m\u001b[0m\n",
      "\u001b[0;31mKeyError\u001b[0m: 'beta'",
      "\nDuring handling of the above exception, another exception occurred:\n",
      "\u001b[0;31mKeyboardInterrupt\u001b[0m                         Traceback (most recent call last)",
      "\u001b[0;32m<ipython-input-20-e0effd97b608>\u001b[0m in \u001b[0;36m<module>\u001b[0;34m\u001b[0m\n\u001b[1;32m     23\u001b[0m         \u001b[0mdisplay\u001b[0m\u001b[0;34m(\u001b[0m\u001b[0mstock\u001b[0m\u001b[0;34m)\u001b[0m\u001b[0;34m\u001b[0m\u001b[0;34m\u001b[0m\u001b[0m\n\u001b[1;32m     24\u001b[0m         \u001b[0mrepeat\u001b[0m\u001b[0;34m.\u001b[0m\u001b[0mappend\u001b[0m\u001b[0;34m(\u001b[0m\u001b[0mstock\u001b[0m\u001b[0;34m)\u001b[0m\u001b[0;34m\u001b[0m\u001b[0;34m\u001b[0m\u001b[0m\n\u001b[0;32m---> 25\u001b[0;31m         \u001b[0mtime\u001b[0m\u001b[0;34m.\u001b[0m\u001b[0msleep\u001b[0m\u001b[0;34m(\u001b[0m\u001b[0;36m30\u001b[0m\u001b[0;34m)\u001b[0m\u001b[0;34m\u001b[0m\u001b[0;34m\u001b[0m\u001b[0m\n\u001b[0m\u001b[1;32m     26\u001b[0m         \u001b[0;32mpass\u001b[0m\u001b[0;34m\u001b[0m\u001b[0;34m\u001b[0m\u001b[0m\n\u001b[1;32m     27\u001b[0m \u001b[0mprint\u001b[0m\u001b[0;34m(\u001b[0m\u001b[0;34m\"repeating \"\u001b[0m \u001b[0;34m+\u001b[0m \u001b[0mstr\u001b[0m\u001b[0;34m(\u001b[0m\u001b[0mrepeat\u001b[0m\u001b[0;34m)\u001b[0m\u001b[0;34m)\u001b[0m\u001b[0;34m\u001b[0m\u001b[0;34m\u001b[0m\u001b[0m\n",
      "\u001b[0;31mKeyboardInterrupt\u001b[0m: "
     ]
    }
   ],
   "source": [
    "# Adding company beta and 10_day_avg_volume values to a dataframe\n",
    "\n",
    "# Stock data\n",
    "for stock in total:\n",
    "# for stock in [\"ABNB\", ]:\n",
    "    try:\n",
    "        # request company's beta\n",
    "        r = requests.get('https://finnhub.io/api/v1/stock/metric?symbol=' + str(stock) + '&metric=all&token=bvt5fmf48v6rku8bvmn0')\n",
    "        metrics = r.json()[\"metric\"]\n",
    "        count += 1\n",
    "\n",
    "        beta = metrics[\"beta\"]\n",
    "        vol = metrics[\"10DayAverageTradingVolume\"]\n",
    "        if beta == None or vol == None or (str(stock) in df.keys()):\n",
    "            continue\n",
    "\n",
    "        # fill dictionary\n",
    "        if beta >= 1.0:\n",
    "            df[str(stock)] = {\"beta\": beta, \"volume_10_day\": vol}\n",
    "\n",
    "    except:\n",
    "        display(r.json())\n",
    "        display(stock)\n",
    "        repeat.append(stock)\n",
    "        time.sleep(30)\n",
    "        pass\n",
    "print(\"repeating \" + str(repeat))\n",
    "for stock in repeat:\n",
    "    try:\n",
    "        # request company's beta\n",
    "        r = requests.get('https://finnhub.io/api/v1/stock/metric?symbol=' + str(stock) + '&metric=all&token=bvt5fmf48v6rku8bvmn0')\n",
    "        metrics = r.json()[\"metric\"]\n",
    "        count += 1\n",
    "\n",
    "        beta = metrics[\"beta\"]\n",
    "        vol = metrics[\"10DayAverageTradingVolume\"]\n",
    "        if beta == None or vol == None or (str(stock) in df.keys()):\n",
    "            continue\n",
    "\n",
    "        # fill dictionary\n",
    "        if beta >= 1.0:\n",
    "            df[str(stock)] = {\"beta\": beta, \"volume_10_day\": vol}\n",
    "\n",
    "    except:\n",
    "        display(r.json())\n",
    "        display(stock)\n",
    "        time.sleep(30)\n",
    "        pass"
   ]
  },
  {
   "cell_type": "code",
   "execution_count": 6,
   "metadata": {},
   "outputs": [
    {
     "data": {
      "text/html": [
       "<div>\n",
       "<style scoped>\n",
       "    .dataframe tbody tr th:only-of-type {\n",
       "        vertical-align: middle;\n",
       "    }\n",
       "\n",
       "    .dataframe tbody tr th {\n",
       "        vertical-align: top;\n",
       "    }\n",
       "\n",
       "    .dataframe thead th {\n",
       "        text-align: right;\n",
       "    }\n",
       "</style>\n",
       "<table border=\"1\" class=\"dataframe\">\n",
       "  <thead>\n",
       "    <tr style=\"text-align: right;\">\n",
       "      <th></th>\n",
       "      <th>beta</th>\n",
       "      <th>volume_10_day</th>\n",
       "    </tr>\n",
       "  </thead>\n",
       "  <tbody>\n",
       "    <tr>\n",
       "      <th>GRWG</th>\n",
       "      <td>3.11377</td>\n",
       "      <td>2.53634</td>\n",
       "    </tr>\n",
       "    <tr>\n",
       "      <th>CURLF</th>\n",
       "      <td>1.57790</td>\n",
       "      <td>0.97750</td>\n",
       "    </tr>\n",
       "    <tr>\n",
       "      <th>CGC</th>\n",
       "      <td>2.37242</td>\n",
       "      <td>1.44393</td>\n",
       "    </tr>\n",
       "    <tr>\n",
       "      <th>CRON</th>\n",
       "      <td>2.11014</td>\n",
       "      <td>1.05673</td>\n",
       "    </tr>\n",
       "    <tr>\n",
       "      <th>XRX</th>\n",
       "      <td>1.87977</td>\n",
       "      <td>2.58729</td>\n",
       "    </tr>\n",
       "    <tr>\n",
       "      <th>...</th>\n",
       "      <td>...</td>\n",
       "      <td>...</td>\n",
       "    </tr>\n",
       "    <tr>\n",
       "      <th>F</th>\n",
       "      <td>1.27192</td>\n",
       "      <td>125.95161</td>\n",
       "    </tr>\n",
       "    <tr>\n",
       "      <th>TSLA</th>\n",
       "      <td>2.13589</td>\n",
       "      <td>34.20522</td>\n",
       "    </tr>\n",
       "    <tr>\n",
       "      <th>GM</th>\n",
       "      <td>1.38764</td>\n",
       "      <td>38.65255</td>\n",
       "    </tr>\n",
       "    <tr>\n",
       "      <th>ISR</th>\n",
       "      <td>2.27569</td>\n",
       "      <td>19.66579</td>\n",
       "    </tr>\n",
       "    <tr>\n",
       "      <th>PLUG</th>\n",
       "      <td>1.87740</td>\n",
       "      <td>73.78250</td>\n",
       "    </tr>\n",
       "  </tbody>\n",
       "</table>\n",
       "<p>70 rows × 2 columns</p>\n",
       "</div>"
      ],
      "text/plain": [
       "          beta  volume_10_day\n",
       "GRWG   3.11377        2.53634\n",
       "CURLF  1.57790        0.97750\n",
       "CGC    2.37242        1.44393\n",
       "CRON   2.11014        1.05673\n",
       "XRX    1.87977        2.58729\n",
       "...        ...            ...\n",
       "F      1.27192      125.95161\n",
       "TSLA   2.13589       34.20522\n",
       "GM     1.38764       38.65255\n",
       "ISR    2.27569       19.66579\n",
       "PLUG   1.87740       73.78250\n",
       "\n",
       "[70 rows x 2 columns]"
      ]
     },
     "metadata": {},
     "output_type": "display_data"
    }
   ],
   "source": [
    "# dataframe to store stock data\n",
    "data = pd.DataFrame(df)\n",
    "data = data.transpose()\n",
    "display(data)"
   ]
  },
  {
   "cell_type": "code",
   "execution_count": 7,
   "metadata": {},
   "outputs": [],
   "source": [
    "data['c'] = ''\n",
    "data['o'] = ''\n",
    "data['adx'] = ''\n",
    "data['signal'] = ''\n",
    "data['trending'] = ''\n",
    "data['shareOutstanding'] = ''"
   ]
  },
  {
   "cell_type": "code",
   "execution_count": 8,
   "metadata": {},
   "outputs": [
    {
     "name": "stdout",
     "output_type": "stream",
     "text": [
      "5...CRON\n",
      "17...AVGO\n",
      "33...OXY\n",
      "34...MRO\n",
      "50...HLT\n",
      "51...DRI\n",
      "67...F\n",
      "68...TSLA\n",
      "70...ISR\n",
      "repeating: ['CRON', 'AVGO', 'OXY', 'MRO', 'HLT', 'DRI', 'F', 'TSLA', 'ISR']\n",
      "72...CRON\n",
      "80...ISR\n"
     ]
    }
   ],
   "source": [
    "# adding trends, signals, and price levels\n",
    "count = 1\n",
    "repeat = []\n",
    "\n",
    "# Stock data\n",
    "# for stock in [\"MA\", \"CURLF\", \"AXP\", \"COP\", \"HAL\", \"DAR\", \"GOOS\"]:\n",
    "for stock in data.index:\n",
    "    try:\n",
    "        # Aggregate Indicators -- (signal, adx, trending)\n",
    "        r = requests.get('https://finnhub.io/api/v1/scan/technical-indicator?symbol=' + str(stock) + '&resolution=W&token=bvt5fmf48v6rku8bvmn0')\n",
    "        metrics = r.json()\n",
    "        count += 1\n",
    "\n",
    "        # trending metrics\n",
    "        signal = metrics[\"technicalAnalysis\"][\"signal\"]\n",
    "        adx = metrics[\"trend\"][\"adx\"]\n",
    "        trending = metrics[\"trend\"][\"trending\"]\n",
    "        # add to dataframe\n",
    "        data.at[str(stock), 'adx'] = adx\n",
    "        data.at[str(stock), 'signal'] = signal\n",
    "        data.at[str(stock), 'trending'] = trending\n",
    "\n",
    "\n",
    "        # company profile -- shareOutstanding \n",
    "        r = requests.get('https://finnhub.io/api/v1/stock/profile2?symbol=' + str(stock) + '&token=bvt5fmf48v6rku8bvmn0')\n",
    "        shares = r.json()[\"shareOutstanding\"]\n",
    "        # add to dataframe\n",
    "        data.at[str(stock), 'shareOutstanding'] = shares\n",
    "\n",
    "        # open price and current price\n",
    "        r = requests.get('https://finnhub.io/api/v1/quote?symbol=' + str(stock) + '&token=bvt5fmf48v6rku8bvmn0')\n",
    "        metrics = r.json()\n",
    "        # add to dataframe\n",
    "        data.at[str(stock), 'o'] = metrics['o']\n",
    "        data.at[str(stock), 'c'] = metrics['c']\n",
    "\n",
    "        # News Sentiment\n",
    "        r = requests.get('https://finnhub.io/api/v1/news-sentiment?symbol=' + str(stock) + '&token=bvt5fmf48v6rku8bvmn0')\n",
    "        metrics = r.json()\n",
    "        # add to dataframe\n",
    "        data.at[str(stock), 'bearish'] = metrics[\"sentiment\"][\"bearishPercent\"]\n",
    "        data.at[str(stock), 'bullish'] = metrics[\"sentiment\"][\"bullishPercent\"]\n",
    "\n",
    "    except:\n",
    "        print(str(count) + '...' + str(stock))\n",
    "        time.sleep(30)\n",
    "        repeat.append(stock)\n",
    "        pass\n",
    "    \n",
    "print(\"repeating: \" + str(repeat))\n",
    "for stock in repeat:\n",
    "    try:\n",
    "        # Aggregate Indicators -- (signal, adx, trending)\n",
    "        r = requests.get('https://finnhub.io/api/v1/scan/technical-indicator?symbol=' + str(stock) + '&resolution=W&token=bvt5fmf48v6rku8bvmn0')\n",
    "        metrics = r.json()\n",
    "        count += 1\n",
    "\n",
    "        signal = metrics[\"technicalAnalysis\"][\"signal\"]\n",
    "        adx = metrics[\"trend\"][\"adx\"]\n",
    "        trending = metrics[\"trend\"][\"trending\"]\n",
    "\n",
    "        # add to dataframe\n",
    "        data.at[str(stock), 'adx'] = adx\n",
    "        data.at[str(stock), 'signal'] = signal\n",
    "        data.at[str(stock), 'trending'] = trending\n",
    "\n",
    "\n",
    "        # company profile -- shareOutstanding \n",
    "        r = requests.get('https://finnhub.io/api/v1/stock/profile2?symbol=' + str(stock) + '&token=bvt5fmf48v6rku8bvmn0')\n",
    "        shares = r.json()[\"shareOutstanding\"]\n",
    "\n",
    "        # add to dataframe\n",
    "        data.at[str(stock), 'shareOutstanding'] = shares\n",
    "\n",
    "\n",
    "        # open price and current price\n",
    "        r = requests.get('https://finnhub.io/api/v1/quote?symbol=' + str(stock) + '&token=bvt5fmf48v6rku8bvmn0')\n",
    "        metrics = r.json()\n",
    "\n",
    "        # add to dataframe\n",
    "        data.at[str(stock), 'o'] = metrics['o']\n",
    "        data.at[str(stock), 'c'] = metrics['c']\n",
    "\n",
    "        # News Sentiment\n",
    "        r = requests.get('https://finnhub.io/api/v1/news-sentiment?symbol=' + str(stock) + '&token=bvt5fmf48v6rku8bvmn0')\n",
    "        metrics = r.json()\n",
    "\n",
    "        data.at[str(stock), 'bearish'] = metrics[\"sentiment\"][\"bearishPercent\"]\n",
    "        data.at[str(stock), 'bullish'] = metrics[\"sentiment\"][\"bullishPercent\"]\n",
    "\n",
    "    except:\n",
    "        print(str(count) + '...' + str(stock))\n",
    "        time.sleep(30)\n",
    "        pass"
   ]
  },
  {
   "cell_type": "code",
   "execution_count": 38,
   "metadata": {},
   "outputs": [
    {
     "data": {
      "text/html": [
       "<div>\n",
       "<style scoped>\n",
       "    .dataframe tbody tr th:only-of-type {\n",
       "        vertical-align: middle;\n",
       "    }\n",
       "\n",
       "    .dataframe tbody tr th {\n",
       "        vertical-align: top;\n",
       "    }\n",
       "\n",
       "    .dataframe thead th {\n",
       "        text-align: right;\n",
       "    }\n",
       "</style>\n",
       "<table border=\"1\" class=\"dataframe\">\n",
       "  <thead>\n",
       "    <tr style=\"text-align: right;\">\n",
       "      <th></th>\n",
       "      <th>beta</th>\n",
       "      <th>volume_10_day</th>\n",
       "      <th>c</th>\n",
       "      <th>o</th>\n",
       "      <th>adx</th>\n",
       "      <th>signal</th>\n",
       "      <th>trending</th>\n",
       "      <th>shareOutstanding</th>\n",
       "      <th>bearish</th>\n",
       "      <th>bullish</th>\n",
       "    </tr>\n",
       "  </thead>\n",
       "  <tbody>\n",
       "    <tr>\n",
       "      <th>GRWG</th>\n",
       "      <td>3.11377</td>\n",
       "      <td>2.53634</td>\n",
       "      <td>43.2299</td>\n",
       "      <td>42.365</td>\n",
       "      <td>70.9655</td>\n",
       "      <td>buy</td>\n",
       "      <td>True</td>\n",
       "      <td>36.88</td>\n",
       "      <td>0.0000</td>\n",
       "      <td>1.0000</td>\n",
       "    </tr>\n",
       "    <tr>\n",
       "      <th>SQ</th>\n",
       "      <td>2.56729</td>\n",
       "      <td>8.51036</td>\n",
       "      <td>215.29</td>\n",
       "      <td>214.22</td>\n",
       "      <td>39.6073</td>\n",
       "      <td>neutral</td>\n",
       "      <td>True</td>\n",
       "      <td>432.8</td>\n",
       "      <td>0.0000</td>\n",
       "      <td>1.0000</td>\n",
       "    </tr>\n",
       "    <tr>\n",
       "      <th>CGC</th>\n",
       "      <td>2.37242</td>\n",
       "      <td>1.44393</td>\n",
       "      <td>39.95</td>\n",
       "      <td>40.41</td>\n",
       "      <td>38.2949</td>\n",
       "      <td>strong buy</td>\n",
       "      <td>True</td>\n",
       "      <td>350.11</td>\n",
       "      <td>0.0000</td>\n",
       "      <td>1.0000</td>\n",
       "    </tr>\n",
       "    <tr>\n",
       "      <th>ISR</th>\n",
       "      <td>2.27569</td>\n",
       "      <td>19.66579</td>\n",
       "      <td>1.7199</td>\n",
       "      <td>1.7199</td>\n",
       "      <td>39.2617</td>\n",
       "      <td>buy</td>\n",
       "      <td>True</td>\n",
       "      <td>68.9</td>\n",
       "      <td>NaN</td>\n",
       "      <td>NaN</td>\n",
       "    </tr>\n",
       "    <tr>\n",
       "      <th>AMD</th>\n",
       "      <td>2.18109</td>\n",
       "      <td>55.18614</td>\n",
       "      <td>85.58</td>\n",
       "      <td>85.46</td>\n",
       "      <td>43.0968</td>\n",
       "      <td>buy</td>\n",
       "      <td>True</td>\n",
       "      <td>1202.71</td>\n",
       "      <td>0.0000</td>\n",
       "      <td>1.0000</td>\n",
       "    </tr>\n",
       "    <tr>\n",
       "      <th>TSLA</th>\n",
       "      <td>2.13589</td>\n",
       "      <td>34.20522</td>\n",
       "      <td>792.64</td>\n",
       "      <td>784.05</td>\n",
       "      <td>56.6435</td>\n",
       "      <td>buy</td>\n",
       "      <td>True</td>\n",
       "      <td>947.9</td>\n",
       "      <td>0.5676</td>\n",
       "      <td>0.4324</td>\n",
       "    </tr>\n",
       "    <tr>\n",
       "      <th>ROKU</th>\n",
       "      <td>1.94542</td>\n",
       "      <td>4.12447</td>\n",
       "      <td>388.025</td>\n",
       "      <td>384.63</td>\n",
       "      <td>53.8478</td>\n",
       "      <td>buy</td>\n",
       "      <td>True</td>\n",
       "      <td>119.9</td>\n",
       "      <td>0.0000</td>\n",
       "      <td>1.0000</td>\n",
       "    </tr>\n",
       "    <tr>\n",
       "      <th>PLUG</th>\n",
       "      <td>1.87740</td>\n",
       "      <td>73.78250</td>\n",
       "      <td>63.365</td>\n",
       "      <td>63.5101</td>\n",
       "      <td>61.9773</td>\n",
       "      <td>buy</td>\n",
       "      <td>True</td>\n",
       "      <td>303.38</td>\n",
       "      <td>0.5000</td>\n",
       "      <td>0.5000</td>\n",
       "    </tr>\n",
       "    <tr>\n",
       "      <th>SHAK</th>\n",
       "      <td>1.78637</td>\n",
       "      <td>1.17170</td>\n",
       "      <td>112.62</td>\n",
       "      <td>112.74</td>\n",
       "      <td>50.6535</td>\n",
       "      <td>buy</td>\n",
       "      <td>True</td>\n",
       "      <td>37.56</td>\n",
       "      <td>0.5000</td>\n",
       "      <td>0.5000</td>\n",
       "    </tr>\n",
       "    <tr>\n",
       "      <th>DFS</th>\n",
       "      <td>1.75996</td>\n",
       "      <td>3.40184</td>\n",
       "      <td>83.625</td>\n",
       "      <td>83.09</td>\n",
       "      <td>36.8049</td>\n",
       "      <td>buy</td>\n",
       "      <td>True</td>\n",
       "      <td>307</td>\n",
       "      <td>0.5000</td>\n",
       "      <td>0.5000</td>\n",
       "    </tr>\n",
       "    <tr>\n",
       "      <th>GME</th>\n",
       "      <td>1.73451</td>\n",
       "      <td>67.29940</td>\n",
       "      <td>256.89</td>\n",
       "      <td>282</td>\n",
       "      <td>61.2611</td>\n",
       "      <td>buy</td>\n",
       "      <td>True</td>\n",
       "      <td>64.3</td>\n",
       "      <td>0.6327</td>\n",
       "      <td>0.3673</td>\n",
       "    </tr>\n",
       "    <tr>\n",
       "      <th>DD</th>\n",
       "      <td>1.66657</td>\n",
       "      <td>17.38543</td>\n",
       "      <td>78.81</td>\n",
       "      <td>78.585</td>\n",
       "      <td>31.6296</td>\n",
       "      <td>buy</td>\n",
       "      <td>True</td>\n",
       "      <td>738.56</td>\n",
       "      <td>0.0000</td>\n",
       "      <td>1.0000</td>\n",
       "    </tr>\n",
       "    <tr>\n",
       "      <th>CURLF</th>\n",
       "      <td>1.57790</td>\n",
       "      <td>0.97750</td>\n",
       "      <td>13.3</td>\n",
       "      <td>13.6</td>\n",
       "      <td>35.7034</td>\n",
       "      <td>buy</td>\n",
       "      <td>True</td>\n",
       "      <td>470.09</td>\n",
       "      <td>0.0000</td>\n",
       "      <td>1.0000</td>\n",
       "    </tr>\n",
       "    <tr>\n",
       "      <th>DRI</th>\n",
       "      <td>1.51231</td>\n",
       "      <td>1.15354</td>\n",
       "      <td>117.84</td>\n",
       "      <td>118.34</td>\n",
       "      <td>32.2496</td>\n",
       "      <td>buy</td>\n",
       "      <td>True</td>\n",
       "      <td>129.9</td>\n",
       "      <td>0.5000</td>\n",
       "      <td>0.5000</td>\n",
       "    </tr>\n",
       "    <tr>\n",
       "      <th>AMAT</th>\n",
       "      <td>1.50476</td>\n",
       "      <td>8.33117</td>\n",
       "      <td>97.115</td>\n",
       "      <td>97</td>\n",
       "      <td>33.4622</td>\n",
       "      <td>buy</td>\n",
       "      <td>True</td>\n",
       "      <td>914</td>\n",
       "      <td>0.5000</td>\n",
       "      <td>0.5000</td>\n",
       "    </tr>\n",
       "    <tr>\n",
       "      <th>NVDA</th>\n",
       "      <td>1.39993</td>\n",
       "      <td>7.35356</td>\n",
       "      <td>519.33</td>\n",
       "      <td>518.395</td>\n",
       "      <td>46.8965</td>\n",
       "      <td>neutral</td>\n",
       "      <td>True</td>\n",
       "      <td>613</td>\n",
       "      <td>0.0000</td>\n",
       "      <td>1.0000</td>\n",
       "    </tr>\n",
       "    <tr>\n",
       "      <th>GM</th>\n",
       "      <td>1.38764</td>\n",
       "      <td>38.65255</td>\n",
       "      <td>50.81</td>\n",
       "      <td>50.47</td>\n",
       "      <td>42.8191</td>\n",
       "      <td>neutral</td>\n",
       "      <td>True</td>\n",
       "      <td>1400</td>\n",
       "      <td>0.2500</td>\n",
       "      <td>0.7500</td>\n",
       "    </tr>\n",
       "    <tr>\n",
       "      <th>QCOM</th>\n",
       "      <td>1.35020</td>\n",
       "      <td>6.66157</td>\n",
       "      <td>156.4</td>\n",
       "      <td>156.16</td>\n",
       "      <td>41.5021</td>\n",
       "      <td>buy</td>\n",
       "      <td>True</td>\n",
       "      <td>1131</td>\n",
       "      <td>0.0910</td>\n",
       "      <td>0.9090</td>\n",
       "    </tr>\n",
       "    <tr>\n",
       "      <th>SNAP</th>\n",
       "      <td>1.29450</td>\n",
       "      <td>18.94993</td>\n",
       "      <td>51.8</td>\n",
       "      <td>51.3035</td>\n",
       "      <td>63.3651</td>\n",
       "      <td>buy</td>\n",
       "      <td>True</td>\n",
       "      <td>1415.8</td>\n",
       "      <td>0.0000</td>\n",
       "      <td>1.0000</td>\n",
       "    </tr>\n",
       "    <tr>\n",
       "      <th>F</th>\n",
       "      <td>1.27192</td>\n",
       "      <td>125.95161</td>\n",
       "      <td>10.535</td>\n",
       "      <td>10.495</td>\n",
       "      <td>43.3242</td>\n",
       "      <td>buy</td>\n",
       "      <td>True</td>\n",
       "      <td>4082</td>\n",
       "      <td>0.0000</td>\n",
       "      <td>1.0000</td>\n",
       "    </tr>\n",
       "    <tr>\n",
       "      <th>AAPL</th>\n",
       "      <td>1.27172</td>\n",
       "      <td>107.07066</td>\n",
       "      <td>132.16</td>\n",
       "      <td>131.72</td>\n",
       "      <td>32.7101</td>\n",
       "      <td>buy</td>\n",
       "      <td>True</td>\n",
       "      <td>16976.8</td>\n",
       "      <td>0.3393</td>\n",
       "      <td>0.6607</td>\n",
       "    </tr>\n",
       "    <tr>\n",
       "      <th>DAR</th>\n",
       "      <td>1.27059</td>\n",
       "      <td>1.49727</td>\n",
       "      <td>62.41</td>\n",
       "      <td>62.03</td>\n",
       "      <td>57.4987</td>\n",
       "      <td>buy</td>\n",
       "      <td>True</td>\n",
       "      <td>163.78</td>\n",
       "      <td>0.5000</td>\n",
       "      <td>0.5000</td>\n",
       "    </tr>\n",
       "    <tr>\n",
       "      <th>MU</th>\n",
       "      <td>1.26827</td>\n",
       "      <td>18.12126</td>\n",
       "      <td>77.62</td>\n",
       "      <td>77.64</td>\n",
       "      <td>39.4032</td>\n",
       "      <td>buy</td>\n",
       "      <td>True</td>\n",
       "      <td>1113</td>\n",
       "      <td>0.0000</td>\n",
       "      <td>1.0000</td>\n",
       "    </tr>\n",
       "    <tr>\n",
       "      <th>LUV</th>\n",
       "      <td>1.19368</td>\n",
       "      <td>6.19623</td>\n",
       "      <td>44.1</td>\n",
       "      <td>43.88</td>\n",
       "      <td>34.0292</td>\n",
       "      <td>buy</td>\n",
       "      <td>True</td>\n",
       "      <td>590.47</td>\n",
       "      <td>0.6924</td>\n",
       "      <td>0.3076</td>\n",
       "    </tr>\n",
       "    <tr>\n",
       "      <th>DIS</th>\n",
       "      <td>1.17476</td>\n",
       "      <td>8.62561</td>\n",
       "      <td>168.451</td>\n",
       "      <td>167.15</td>\n",
       "      <td>32.6876</td>\n",
       "      <td>buy</td>\n",
       "      <td>True</td>\n",
       "      <td>1781</td>\n",
       "      <td>0.5000</td>\n",
       "      <td>0.5000</td>\n",
       "    </tr>\n",
       "    <tr>\n",
       "      <th>AMZN</th>\n",
       "      <td>1.14438</td>\n",
       "      <td>3.77241</td>\n",
       "      <td>3209.29</td>\n",
       "      <td>3196.52</td>\n",
       "      <td>33.1393</td>\n",
       "      <td>buy</td>\n",
       "      <td>True</td>\n",
       "      <td>498</td>\n",
       "      <td>0.1429</td>\n",
       "      <td>0.8571</td>\n",
       "    </tr>\n",
       "    <tr>\n",
       "      <th>PYPL</th>\n",
       "      <td>1.13623</td>\n",
       "      <td>7.18001</td>\n",
       "      <td>234.15</td>\n",
       "      <td>233.28</td>\n",
       "      <td>33.4462</td>\n",
       "      <td>neutral</td>\n",
       "      <td>True</td>\n",
       "      <td>1173</td>\n",
       "      <td>0.0000</td>\n",
       "      <td>1.0000</td>\n",
       "    </tr>\n",
       "    <tr>\n",
       "      <th>GE</th>\n",
       "      <td>1.08953</td>\n",
       "      <td>67.85666</td>\n",
       "      <td>10.835</td>\n",
       "      <td>10.795</td>\n",
       "      <td>40.6888</td>\n",
       "      <td>buy</td>\n",
       "      <td>True</td>\n",
       "      <td>8759.87</td>\n",
       "      <td>0.0000</td>\n",
       "      <td>1.0000</td>\n",
       "    </tr>\n",
       "    <tr>\n",
       "      <th>TXN</th>\n",
       "      <td>1.06721</td>\n",
       "      <td>4.13966</td>\n",
       "      <td>165.47</td>\n",
       "      <td>165.38</td>\n",
       "      <td>39.9076</td>\n",
       "      <td>buy</td>\n",
       "      <td>True</td>\n",
       "      <td>919.4</td>\n",
       "      <td>0.0000</td>\n",
       "      <td>1.0000</td>\n",
       "    </tr>\n",
       "    <tr>\n",
       "      <th>AVGO</th>\n",
       "      <td>1.05056</td>\n",
       "      <td>1.55795</td>\n",
       "      <td>451.91</td>\n",
       "      <td>449.11</td>\n",
       "      <td>36.0359</td>\n",
       "      <td>buy</td>\n",
       "      <td>True</td>\n",
       "      <td>407</td>\n",
       "      <td>0.0000</td>\n",
       "      <td>1.0000</td>\n",
       "    </tr>\n",
       "  </tbody>\n",
       "</table>\n",
       "</div>"
      ],
      "text/plain": [
       "          beta  volume_10_day        c        o      adx      signal trending  \\\n",
       "GRWG   3.11377        2.53634  43.2299   42.365  70.9655         buy     True   \n",
       "SQ     2.56729        8.51036   215.29   214.22  39.6073     neutral     True   \n",
       "CGC    2.37242        1.44393    39.95    40.41  38.2949  strong buy     True   \n",
       "ISR    2.27569       19.66579   1.7199   1.7199  39.2617         buy     True   \n",
       "AMD    2.18109       55.18614    85.58    85.46  43.0968         buy     True   \n",
       "TSLA   2.13589       34.20522   792.64   784.05  56.6435         buy     True   \n",
       "ROKU   1.94542        4.12447  388.025   384.63  53.8478         buy     True   \n",
       "PLUG   1.87740       73.78250   63.365  63.5101  61.9773         buy     True   \n",
       "SHAK   1.78637        1.17170   112.62   112.74  50.6535         buy     True   \n",
       "DFS    1.75996        3.40184   83.625    83.09  36.8049         buy     True   \n",
       "GME    1.73451       67.29940   256.89      282  61.2611         buy     True   \n",
       "DD     1.66657       17.38543    78.81   78.585  31.6296         buy     True   \n",
       "CURLF  1.57790        0.97750     13.3     13.6  35.7034         buy     True   \n",
       "DRI    1.51231        1.15354   117.84   118.34  32.2496         buy     True   \n",
       "AMAT   1.50476        8.33117   97.115       97  33.4622         buy     True   \n",
       "NVDA   1.39993        7.35356   519.33  518.395  46.8965     neutral     True   \n",
       "GM     1.38764       38.65255    50.81    50.47  42.8191     neutral     True   \n",
       "QCOM   1.35020        6.66157    156.4   156.16  41.5021         buy     True   \n",
       "SNAP   1.29450       18.94993     51.8  51.3035  63.3651         buy     True   \n",
       "F      1.27192      125.95161   10.535   10.495  43.3242         buy     True   \n",
       "AAPL   1.27172      107.07066   132.16   131.72  32.7101         buy     True   \n",
       "DAR    1.27059        1.49727    62.41    62.03  57.4987         buy     True   \n",
       "MU     1.26827       18.12126    77.62    77.64  39.4032         buy     True   \n",
       "LUV    1.19368        6.19623     44.1    43.88  34.0292         buy     True   \n",
       "DIS    1.17476        8.62561  168.451   167.15  32.6876         buy     True   \n",
       "AMZN   1.14438        3.77241  3209.29  3196.52  33.1393         buy     True   \n",
       "PYPL   1.13623        7.18001   234.15   233.28  33.4462     neutral     True   \n",
       "GE     1.08953       67.85666   10.835   10.795  40.6888         buy     True   \n",
       "TXN    1.06721        4.13966   165.47   165.38  39.9076         buy     True   \n",
       "AVGO   1.05056        1.55795   451.91   449.11  36.0359         buy     True   \n",
       "\n",
       "      shareOutstanding  bearish  bullish  \n",
       "GRWG             36.88   0.0000   1.0000  \n",
       "SQ               432.8   0.0000   1.0000  \n",
       "CGC             350.11   0.0000   1.0000  \n",
       "ISR               68.9      NaN      NaN  \n",
       "AMD            1202.71   0.0000   1.0000  \n",
       "TSLA             947.9   0.5676   0.4324  \n",
       "ROKU             119.9   0.0000   1.0000  \n",
       "PLUG            303.38   0.5000   0.5000  \n",
       "SHAK             37.56   0.5000   0.5000  \n",
       "DFS                307   0.5000   0.5000  \n",
       "GME               64.3   0.6327   0.3673  \n",
       "DD              738.56   0.0000   1.0000  \n",
       "CURLF           470.09   0.0000   1.0000  \n",
       "DRI              129.9   0.5000   0.5000  \n",
       "AMAT               914   0.5000   0.5000  \n",
       "NVDA               613   0.0000   1.0000  \n",
       "GM                1400   0.2500   0.7500  \n",
       "QCOM              1131   0.0910   0.9090  \n",
       "SNAP            1415.8   0.0000   1.0000  \n",
       "F                 4082   0.0000   1.0000  \n",
       "AAPL           16976.8   0.3393   0.6607  \n",
       "DAR             163.78   0.5000   0.5000  \n",
       "MU                1113   0.0000   1.0000  \n",
       "LUV             590.47   0.6924   0.3076  \n",
       "DIS               1781   0.5000   0.5000  \n",
       "AMZN               498   0.1429   0.8571  \n",
       "PYPL              1173   0.0000   1.0000  \n",
       "GE             8759.87   0.0000   1.0000  \n",
       "TXN              919.4   0.0000   1.0000  \n",
       "AVGO               407   0.0000   1.0000  "
      ]
     },
     "metadata": {},
     "output_type": "display_data"
    }
   ],
   "source": [
    "# data = data.sort_values(by=[\"signal\", \"beta\", \"shareOutstanding\"], axis=0, ascending=False)\n",
    "data = data.sort_values(by=[\"adx\"], axis=0, ascending=False)\n",
    "data.to_csv('./data/02_01_21_0107.csv', index=True)\n",
    "# data = data.drop(\"CRON\", axis=0)\n",
    "n = len(data)\n",
    "step = 15\n",
    "\n",
    "display(data.head(30).sort_values(by=[\"beta\"], axis=0, ascending=False))"
   ]
  },
  {
   "cell_type": "code",
   "execution_count": null,
   "metadata": {},
   "outputs": [],
   "source": []
  },
  {
   "cell_type": "code",
   "execution_count": null,
   "metadata": {},
   "outputs": [],
   "source": []
  },
  {
   "cell_type": "code",
   "execution_count": null,
   "metadata": {},
   "outputs": [],
   "source": [
    "# for DEV\n",
    "# pattern recognition\n",
    "# for stock in data_1.index:\n",
    "#     r = requests.get('https://finnhub.io/api/v1/scan/pattern?symbol=' + str(stock) + '&resolution=D&token=bvt5fmf48v6rku8bvmn0')\n",
    "#     points = r.json()[\"points\"]\n",
    "#     for entry in points:\n",
    "#         display(entry)"
   ]
  },
  {
   "cell_type": "code",
   "execution_count": null,
   "metadata": {},
   "outputs": [],
   "source": []
  },
  {
   "cell_type": "code",
   "execution_count": null,
   "metadata": {},
   "outputs": [],
   "source": []
  },
  {
   "cell_type": "code",
   "execution_count": null,
   "metadata": {},
   "outputs": [],
   "source": []
  },
  {
   "cell_type": "code",
   "execution_count": null,
   "metadata": {},
   "outputs": [],
   "source": []
  },
  {
   "cell_type": "code",
   "execution_count": null,
   "metadata": {},
   "outputs": [],
   "source": []
  },
  {
   "cell_type": "code",
   "execution_count": null,
   "metadata": {},
   "outputs": [],
   "source": []
  }
 ],
 "metadata": {
  "kernelspec": {
   "display_name": "Python 3",
   "language": "python",
   "name": "python3"
  },
  "language_info": {
   "codemirror_mode": {
    "name": "ipython",
    "version": 3
   },
   "file_extension": ".py",
   "mimetype": "text/x-python",
   "name": "python",
   "nbconvert_exporter": "python",
   "pygments_lexer": "ipython3",
   "version": "3.8.2"
  }
 },
 "nbformat": 4,
 "nbformat_minor": 4
}
