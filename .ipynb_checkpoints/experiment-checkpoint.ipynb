{
 "cells": [
  {
   "cell_type": "code",
   "execution_count": 1,
   "metadata": {},
   "outputs": [],
   "source": [
    "# packages\n",
    "import finnhub\n",
    "import pandas as pd\n",
    "import matplotlib.pyplot as plt"
   ]
  },
  {
   "cell_type": "code",
   "execution_count": 4,
   "metadata": {},
   "outputs": [],
   "source": [
    "# Setup client\n",
    "finnhub_client = finnhub.Client(api_key=\"bvt5fmf48v6rku8bvmn0\")"
   ]
  },
  {
   "cell_type": "code",
   "execution_count": 5,
   "metadata": {},
   "outputs": [],
   "source": [
    "# SYMBOLS\n",
    "weed_stocks = [\"GRWG\", \"JUSHF\", \"CRLBF\", \"HRVSF\", \"MJ\", \"CURLF\", \"CGC\"]\n",
    "tech_stocks = [\"SNE\", \"XRX\", \"CSCO\", \"SIRI\", \"ROKU\", \"ATVI\", \"EA\", \"VZ\", \"T\", \"TMUS\", \"AMAT\",\n",
    "              \"TXN\", \"MU\", \"FB\", \"MSFT\", \"SNAP\", \"AMZN\", \"TWTR\", \"AMD\", \"QCOM\", \"AVGO\", \"AAPL\",\n",
    "              \"INTC\", \"NVDA\"]\n",
    "fin_stocks = [\"AXP\", \"V\", \"MA\", \"JPM\", \"DFS\", \"MS\", \"BAC\", \"GS\", \"SQ\", \"PYPL\", \"GDOT\"]\n",
    "oil_chem_stocks = [\"NGG\", \"PCG\", \"RDS-B\", \"OXY\", \"MRO\", \"DD\", \"CVX\", \"DOW\", \"XOM\", \"PSX\", \"COP\", \n",
    "              \"HAL\"]\n",
    "travel_stocks = [\"LUV\", \"MAR\", \"ABNB\", \"CCL\", \"RCL\", \"DIS\", \"AAL\", \"JBLU\", \"SAVE\", \"DAL\"]\n",
    "food_consumer_stocks = [\"DRI\", \"GIS\", \"NKE\", \"PG\", \"SHAK\", \"GRUB\", \"KDP\", \"PEP\", \"KO\", \"K\", \"QSR\", \"CMG\",\n",
    "              \"YUM\", \"BGS\", \"ACI\", \"DAR\", \"KR\", \"GE\", \"GOOS\", \"HD\", \"LULU\", \"DPZ\", \"SBUX\", \"MMM\",\n",
    "              \"WMT\", \"TGT\", \"COST\", \"JACK\", \"MCD\"]\n",
    "pharma_stocks = [\"CVS\", \"RAD\", \"UNH\", \"LLY\", \"JNJ\", \"BMY\", \"AZN\", \"MRK\", \"ABBV\", \"GILD\", \"PFE\"]\n",
    "defense_infra_stocks = [\"GD\", \"LMT\", \"NOC\", \"BA\", \"CAT\", \"WM\"]\n",
    "auto_stocks = [\"HMC\", \"TM\", \"F\", \"TSLA\", \"GM\"]\n",
    "all_stocks = (weed_stocks + tech_stocks + fin_stocks + oil_chem_stocks \n",
    "                + travel_stocks + food_consumer_stocks + pharma_stocks \n",
    "                + defense_infra_stocks + auto_stocks)"
   ]
  },
  {
   "cell_type": "code",
   "execution_count": 7,
   "metadata": {},
   "outputs": [
    {
     "data": {
      "text/plain": [
       "'GRWG'"
      ]
     },
     "metadata": {},
     "output_type": "display_data"
    },
    {
     "data": {
      "text/html": [
       "<div>\n",
       "<style scoped>\n",
       "    .dataframe tbody tr th:only-of-type {\n",
       "        vertical-align: middle;\n",
       "    }\n",
       "\n",
       "    .dataframe tbody tr th {\n",
       "        vertical-align: top;\n",
       "    }\n",
       "\n",
       "    .dataframe thead th {\n",
       "        text-align: right;\n",
       "    }\n",
       "</style>\n",
       "<table border=\"1\" class=\"dataframe\">\n",
       "  <thead>\n",
       "    <tr style=\"text-align: right;\">\n",
       "      <th></th>\n",
       "      <th>c</th>\n",
       "      <th>h</th>\n",
       "      <th>l</th>\n",
       "      <th>o</th>\n",
       "      <th>s</th>\n",
       "      <th>t</th>\n",
       "      <th>v</th>\n",
       "    </tr>\n",
       "  </thead>\n",
       "  <tbody>\n",
       "    <tr>\n",
       "      <th>0</th>\n",
       "      <td>35.25</td>\n",
       "      <td>35.26</td>\n",
       "      <td>35.25</td>\n",
       "      <td>35.26</td>\n",
       "      <td>ok</td>\n",
       "      <td>1606953900</td>\n",
       "      <td>870</td>\n",
       "    </tr>\n",
       "    <tr>\n",
       "      <th>1</th>\n",
       "      <td>35.25</td>\n",
       "      <td>35.25</td>\n",
       "      <td>35.25</td>\n",
       "      <td>35.25</td>\n",
       "      <td>ok</td>\n",
       "      <td>1606954020</td>\n",
       "      <td>190</td>\n",
       "    </tr>\n",
       "    <tr>\n",
       "      <th>2</th>\n",
       "      <td>35.36</td>\n",
       "      <td>35.36</td>\n",
       "      <td>35.36</td>\n",
       "      <td>35.36</td>\n",
       "      <td>ok</td>\n",
       "      <td>1606956900</td>\n",
       "      <td>143</td>\n",
       "    </tr>\n",
       "    <tr>\n",
       "      <th>3</th>\n",
       "      <td>35.40</td>\n",
       "      <td>35.40</td>\n",
       "      <td>35.40</td>\n",
       "      <td>35.40</td>\n",
       "      <td>ok</td>\n",
       "      <td>1606995480</td>\n",
       "      <td>216</td>\n",
       "    </tr>\n",
       "    <tr>\n",
       "      <th>4</th>\n",
       "      <td>35.40</td>\n",
       "      <td>35.47</td>\n",
       "      <td>35.40</td>\n",
       "      <td>35.47</td>\n",
       "      <td>ok</td>\n",
       "      <td>1606996800</td>\n",
       "      <td>392</td>\n",
       "    </tr>\n",
       "    <tr>\n",
       "      <th>...</th>\n",
       "      <td>...</td>\n",
       "      <td>...</td>\n",
       "      <td>...</td>\n",
       "      <td>...</td>\n",
       "      <td>...</td>\n",
       "      <td>...</td>\n",
       "      <td>...</td>\n",
       "    </tr>\n",
       "    <tr>\n",
       "      <th>5998</th>\n",
       "      <td>42.16</td>\n",
       "      <td>42.16</td>\n",
       "      <td>42.16</td>\n",
       "      <td>42.16</td>\n",
       "      <td>ok</td>\n",
       "      <td>1608677400</td>\n",
       "      <td>100</td>\n",
       "    </tr>\n",
       "    <tr>\n",
       "      <th>5999</th>\n",
       "      <td>42.01</td>\n",
       "      <td>42.01</td>\n",
       "      <td>42.01</td>\n",
       "      <td>42.01</td>\n",
       "      <td>ok</td>\n",
       "      <td>1608677460</td>\n",
       "      <td>212</td>\n",
       "    </tr>\n",
       "    <tr>\n",
       "      <th>6000</th>\n",
       "      <td>42.16</td>\n",
       "      <td>42.16</td>\n",
       "      <td>42.16</td>\n",
       "      <td>42.16</td>\n",
       "      <td>ok</td>\n",
       "      <td>1608677760</td>\n",
       "      <td>100</td>\n",
       "    </tr>\n",
       "    <tr>\n",
       "      <th>6001</th>\n",
       "      <td>41.95</td>\n",
       "      <td>41.95</td>\n",
       "      <td>41.95</td>\n",
       "      <td>41.95</td>\n",
       "      <td>ok</td>\n",
       "      <td>1608679200</td>\n",
       "      <td>270</td>\n",
       "    </tr>\n",
       "    <tr>\n",
       "      <th>6002</th>\n",
       "      <td>42.04</td>\n",
       "      <td>42.04</td>\n",
       "      <td>42.04</td>\n",
       "      <td>42.04</td>\n",
       "      <td>ok</td>\n",
       "      <td>1608680880</td>\n",
       "      <td>140</td>\n",
       "    </tr>\n",
       "  </tbody>\n",
       "</table>\n",
       "<p>6003 rows × 7 columns</p>\n",
       "</div>"
      ],
      "text/plain": [
       "          c      h      l      o   s           t    v\n",
       "0     35.25  35.26  35.25  35.26  ok  1606953900  870\n",
       "1     35.25  35.25  35.25  35.25  ok  1606954020  190\n",
       "2     35.36  35.36  35.36  35.36  ok  1606956900  143\n",
       "3     35.40  35.40  35.40  35.40  ok  1606995480  216\n",
       "4     35.40  35.47  35.40  35.47  ok  1606996800  392\n",
       "...     ...    ...    ...    ...  ..         ...  ...\n",
       "5998  42.16  42.16  42.16  42.16  ok  1608677400  100\n",
       "5999  42.01  42.01  42.01  42.01  ok  1608677460  212\n",
       "6000  42.16  42.16  42.16  42.16  ok  1608677760  100\n",
       "6001  41.95  41.95  41.95  41.95  ok  1608679200  270\n",
       "6002  42.04  42.04  42.04  42.04  ok  1608680880  140\n",
       "\n",
       "[6003 rows x 7 columns]"
      ]
     },
     "metadata": {},
     "output_type": "display_data"
    },
    {
     "data": {
      "image/png": "[encoded data removed]",
      "text/plain": [
       "<Figure size 432x288 with 1 Axes>"
      ]
     },
     "metadata": {
      "needs_background": "light"
     },
     "output_type": "display_data"
    },
    {
     "data": {
      "image/png": "[encoded data removed]",
      "text/plain": [
       "<Figure size 432x288 with 1 Axes>"
      ]
     },
     "metadata": {
      "needs_background": "light"
     },
     "output_type": "display_data"
    },
    {
     "data": {
      "text/plain": [
       "{}"
      ]
     },
     "metadata": {},
     "output_type": "display_data"
    }
   ],
   "source": [
    "# Stock data\n",
    "for stock in all_stocks:\n",
    "    display(stock)\n",
    "    \n",
    "    # 4 pm Friday time stamp\n",
    "    num_days = 20\n",
    "    ts = 1608681600\n",
    "    ts_o = ts - (86400 * num_days)\n",
    "    res = finnhub_client.stock_candles(stock, 1, ts_o, ts)\n",
    "    \n",
    "    # convert to pandas dataframe\n",
    "    df = pd.DataFrame(res)\n",
    "    display(df)\n",
    "    \n",
    "    # plot closing price\n",
    "    display('Close: ')\n",
    "    df['c'].plot()\n",
    "    plt.show()\n",
    "    \n",
    "    # plot volume\n",
    "    display('Volume: ')\n",
    "    df['v'].plot()\n",
    "    plt.show()\n",
    "    \n",
    "    # Pattern recognition\n",
    "    display(finnhub_client.pattern_recognition(stock, 1))\n",
    "    \n",
    "    break\n"
   ]
  },
  {
   "cell_type": "code",
   "execution_count": null,
   "metadata": {},
   "outputs": [],
   "source": []
  }
 ],
 "metadata": {
  "kernelspec": {
   "display_name": "Python 3",
   "language": "python",
   "name": "python3"
  },
  "language_info": {
   "codemirror_mode": {
    "name": "ipython",
    "version": 3
   },
   "file_extension": ".py",
   "mimetype": "text/x-python",
   "name": "python",
   "nbconvert_exporter": "python",
   "pygments_lexer": "ipython3",
   "version": "3.8.2"
  }
 },
 "nbformat": 4,
 "nbformat_minor": 4
}
