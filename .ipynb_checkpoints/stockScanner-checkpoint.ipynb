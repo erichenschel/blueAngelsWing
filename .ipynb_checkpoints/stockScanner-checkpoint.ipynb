{
 "cells": [
  {
   "cell_type": "code",
   "execution_count": null,
   "metadata": {},
   "outputs": [],
   "source": [
    "# Stocks Symbol List Data Source: https://datahub.io/core/nyse-other-listings#python\n",
    "# Stock Data Source: FinnHub"
   ]
  },
  {
   "cell_type": "code",
   "execution_count": 1,
   "metadata": {},
   "outputs": [],
   "source": [
    "# packages\n",
    "import finnhub\n",
    "\n",
    "import numpy as np\n",
    "import pandas as pd\n",
    "import matplotlib.pyplot as plt\n",
    "\n",
    "import time\n",
    "import requests\n",
    "import json\n",
    "from datapackage import Package"
   ]
  },
  {
   "cell_type": "code",
   "execution_count": 2,
   "metadata": {},
   "outputs": [],
   "source": [
    "# Gathering data -- on 01.12.2021 8497 symbols were captured\n",
    "stocks = []\n",
    "package = Package('https://datahub.io/core/nyse-other-listings/datapackage.json')\n",
    "\n",
    "# print list of all resources:\n",
    "# print(package.resource_names)\n",
    "\n",
    "# print processed tabular data (if exists any)\n",
    "for resource in package.resources:\n",
    "    if resource.descriptor['datahub']['type'] == 'derived/csv':\n",
    "        for entry in resource.read():\n",
    "            stocks.append(entry[0])"
   ]
  },
  {
   "cell_type": "code",
   "execution_count": 3,
   "metadata": {},
   "outputs": [],
   "source": [
    "df = {}"
   ]
  },
  {
   "cell_type": "code",
   "execution_count": 4,
   "metadata": {},
   "outputs": [
    {
     "name": "stdout",
     "output_type": "stream",
     "text": [
      "Exception..\n",
      "Exception..\n",
      "Exception..\n",
      "Exception..\n",
      "Exception..\n",
      "Exception..\n",
      "Exception..\n",
      "Exception..\n",
      "Exception..\n",
      "Exception..\n",
      "Exception..\n",
      "Exception..\n",
      "Exception..\n",
      "Exception..\n",
      "Exception..\n",
      "Exception..\n",
      "Exception..\n",
      "Exception..\n",
      "Exception..\n",
      "Exception..\n",
      "Exception..\n",
      "Exception..\n",
      "Exception..\n",
      "Exception..\n",
      "Exception..\n",
      "Exception..\n",
      "Exception..\n",
      "Exception..\n",
      "Exception..\n",
      "Exception..\n",
      "Exception..\n",
      "Exception..\n",
      "Exception..\n",
      "Exception..\n",
      "Exception..\n",
      "Exception..\n",
      "Exception..\n",
      "Exception..\n",
      "Exception..\n",
      "Exception..\n",
      "Exception..\n",
      "Exception..\n",
      "Exception..\n",
      "Exception..\n",
      "Exception..\n",
      "Exception..\n",
      "Exception..\n",
      "Exception..\n",
      "Exception..\n",
      "Exception..\n",
      "Exception..\n",
      "Exception..\n",
      "Exception..\n",
      "Exception..\n",
      "Exception..\n",
      "Exception..\n",
      "Exception..\n",
      "Exception..\n",
      "Exception..\n",
      "Exception..\n",
      "Exception..\n",
      "Exception..\n",
      "Exception..\n",
      "Exception..\n",
      "Exception..\n",
      "Exception..\n",
      "Exception..\n",
      "Exception..\n",
      "Exception..\n",
      "Exception..\n",
      "Exception..\n",
      "Exception..\n",
      "Exception..\n",
      "Exception..\n",
      "Exception..\n",
      "Exception..\n",
      "Exception..\n",
      "Exception..\n",
      "Exception..\n",
      "Exception..\n",
      "Exception..\n",
      "Exception..\n",
      "Exception..\n",
      "Exception..\n",
      "Exception..\n",
      "Exception..\n",
      "Exception..\n",
      "Exception..\n",
      "Exception..\n",
      "Exception..\n",
      "Exception..\n",
      "Exception..\n",
      "Exception..\n",
      "Exception..\n",
      "Exception..\n",
      "Exception..\n",
      "Exception..\n",
      "Exception..\n",
      "Exception..\n",
      "Exception..\n",
      "Exception..\n",
      "Exception..\n",
      "Exception..\n",
      "Exception..\n",
      "Exception..\n",
      "Exception..\n",
      "Exception..\n",
      "Exception..\n",
      "Exception..\n",
      "Exception..\n",
      "Exception..\n",
      "Exception..\n",
      "Exception..\n",
      "Exception..\n",
      "Exception..\n",
      "Exception..\n",
      "Exception..\n",
      "Exception..\n",
      "Exception..\n",
      "Exception..\n",
      "Exception..\n",
      "Exception..\n",
      "Exception..\n",
      "Exception..\n",
      "Exception..\n",
      "Exception..\n",
      "Exception..\n",
      "Exception..\n",
      "Exception..\n",
      "Exception..\n",
      "Exception..\n",
      "Exception..\n",
      "Exception..\n",
      "Exception..\n",
      "Exception..\n",
      "Exception..\n",
      "Exception..\n",
      "Exception..\n",
      "Exception..\n",
      "Exception..\n",
      "Exception..\n",
      "Exception..\n",
      "Exception..\n",
      "Exception..\n",
      "Exception..\n",
      "Exception..\n",
      "Exception..\n",
      "Exception..\n",
      "Exception..\n",
      "Exception..\n",
      "Exception..\n"
     ]
    }
   ],
   "source": [
    "count = 1\n",
    "\n",
    "# Stock data\n",
    "for stock in stocks[150:]:\n",
    "    if count % 10 == 0:\n",
    "        time.sleep(5)\n",
    "    try:\n",
    "        # request company's beta\n",
    "        r = requests.get('https://finnhub.io/api/v1/stock/metric?symbol=' + str(stock) + '&metric=all&token=bvt5fmf48v6rku8bvmn0')\n",
    "        metrics = r.json()[\"metric\"]\n",
    "        count += 1\n",
    "        \n",
    "        beta = metrics[\"beta\"]\n",
    "        vol = metrics[\"10DayAverageTradingVolume\"]\n",
    "        if beta == None or vol == None or (str(stock) in df.keys()):\n",
    "            continue\n",
    "        \n",
    "        # fill dictionary\n",
    "        if beta > 1.5 and vol <= 100:\n",
    "            df[str(stock)] = {\"beta\": beta, \"volume_10_day\": vol}\n",
    "            \n",
    "        if count == 151:\n",
    "            break\n",
    "        \n",
    "    except:\n",
    "        print(\"Exception.. \" + str(stock))\n",
    "        continue"
   ]
  },
  {
   "cell_type": "code",
   "execution_count": 19,
   "metadata": {},
   "outputs": [
    {
     "data": {
      "text/plain": [
       "{'AA': {'beta': 2.57318, 'volume_10_day': 3.90649},\n",
       " 'ABG': {'beta': 1.61963, 'volume_10_day': 0.15553},\n",
       " 'ABR': {'beta': 1.85855, 'volume_10_day': 0.90241},\n",
       " 'ACCO': {'beta': 2.27558, 'volume_10_day': 0.45883},\n",
       " 'ACH': {'beta': 1.72907, 'volume_10_day': 0.07045},\n",
       " 'ACM': {'beta': 1.60861, 'volume_10_day': 1.10303},\n",
       " 'AER': {'beta': 2.33199, 'volume_10_day': 0.88619},\n",
       " 'AHT': {'beta': 2.45996, 'volume_10_day': 6.69576},\n",
       " 'ANF': {'beta': 1.88281, 'volume_10_day': 1.3609},\n",
       " 'ANH': {'beta': 2.06317, 'volume_10_day': 1.21967},\n",
       " 'APA': {'beta': 5.01592, 'volume_10_day': 8.33155},\n",
       " 'APAM': {'beta': 1.87467, 'volume_10_day': 0.35814},\n",
       " 'APO': {'beta': 1.60385, 'volume_10_day': 0.9484},\n",
       " 'AR': {'beta': 4.85665, 'volume_10_day': 8.04063},\n",
       " 'ARC': {'beta': 1.60786, 'volume_10_day': 0.22658},\n",
       " 'ARCO': {'beta': 1.58175, 'volume_10_day': 0.6287},\n",
       " 'ARMK': {'beta': 1.93386, 'volume_10_day': 1.67109},\n",
       " 'ARW': {'beta': 1.56082, 'volume_10_day': 0.30003}}"
      ]
     },
     "metadata": {},
     "output_type": "display_data"
    }
   ],
   "source": [
    "n = len(df)\n",
    "display(df)"
   ]
  },
  {
   "cell_type": "code",
   "execution_count": 23,
   "metadata": {},
   "outputs": [
    {
     "data": {
      "image/png": "[encoded data removed]",
      "text/plain": [
       "<Figure size 432x288 with 1 Axes>"
      ]
     },
     "metadata": {
      "needs_background": "light"
     },
     "output_type": "display_data"
    }
   ],
   "source": [
    "# plots for beta\n",
    "beta = []\n",
    "for entry in list(df.values()):\n",
    "    beta.append(entry[\"beta\"])\n",
    "\n",
    "fig, ax = plt.subplots()\n",
    "ax.bar(list(df.keys()), beta, color='g')\n",
    "\n",
    "ax.set_xticks(range(len(df)))\n",
    "ax.set_xticklabels(list(df.keys()))\n",
    "# [1::2] means start from the second element in the list and get every other element\n",
    "for tick in ax.xaxis.get_major_ticks()[1::2]:\n",
    "    tick.set_pad(15)\n",
    "plt.show()"
   ]
  },
  {
   "cell_type": "code",
   "execution_count": 22,
   "metadata": {},
   "outputs": [
    {
     "data": {
      "image/png": "[encoded data removed]",
      "text/plain": [
       "<Figure size 432x288 with 1 Axes>"
      ]
     },
     "metadata": {
      "needs_background": "light"
     },
     "output_type": "display_data"
    }
   ],
   "source": [
    "# plots for volume\n",
    "vol = []\n",
    "for entry in list(df.values()):\n",
    "    vol.append(entry[\"volume_10_day\"])\n",
    "    \n",
    "fig, ax = plt.subplots()\n",
    "ax.bar(list(df.keys()), vol, color='g')\n",
    "\n",
    "ax.set_xticks(range(len(df)))\n",
    "ax.set_xticklabels(list(df.keys()))\n",
    "# [1::2] means start from the second element in the list and get every other element\n",
    "for tick in ax.xaxis.get_major_ticks()[1::2]:\n",
    "    tick.set_pad(15)\n",
    "plt.show()"
   ]
  },
  {
   "cell_type": "code",
   "execution_count": null,
   "metadata": {},
   "outputs": [],
   "source": []
  }
 ],
 "metadata": {
  "kernelspec": {
   "display_name": "Python 3",
   "language": "python",
   "name": "python3"
  },
  "language_info": {
   "codemirror_mode": {
    "name": "ipython",
    "version": 3
   },
   "file_extension": ".py",
   "mimetype": "text/x-python",
   "name": "python",
   "nbconvert_exporter": "python",
   "pygments_lexer": "ipython3",
   "version": "3.8.2"
  }
 },
 "nbformat": 4,
 "nbformat_minor": 4
}
