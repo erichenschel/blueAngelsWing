{
 "cells": [
  {
   "cell_type": "code",
   "execution_count": null,
   "metadata": {},
   "outputs": [],
   "source": [
    "# Finnhub client\n",
    "finnhub_client = finnhub.Client(api_key=\"bvt5fmf48v6rku8bvmn0\")"
   ]
  },
  {
   "cell_type": "code",
   "execution_count": null,
   "metadata": {},
   "outputs": [],
   "source": [
    "# packages\n",
    "import finnhub\n",
    "import pandas as pd\n",
    "import matplotlib.pyplot as plt\n",
    "import time\n",
    "import requests\n",
    "import json"
   ]
  },
  {
   "cell_type": "code",
   "execution_count": null,
   "metadata": {},
   "outputs": [],
   "source": [
    "# SYMBOLS\n",
    "weed_stocks = [\"GRWG\", \"JUSHF\", \"CRLBF\", \"HRVSF\", \"MJ\", \"CURLF\", \"CGC\"]\n",
    "\n",
    "tech_stocks = [\"SNE\", \"XRX\", \"CSCO\", \"SIRI\", \"ROKU\", \"ATVI\", \"EA\", \"VZ\", \"T\", \"TMUS\", \"AMAT\",\n",
    "              \"TXN\", \"MU\", \"FB\", \"MSFT\", \"SNAP\", \"AMZN\", \"TWTR\", \"AMD\", \"QCOM\", \"AVGO\", \"AAPL\",\n",
    "              \"INTC\", \"NVDA\", \"NFLX\"]\n",
    "\n",
    "fin_stocks = [\"AXP\", \"V\", \"MA\", \"JPM\", \"DFS\", \"MS\", \"BAC\", \"GS\", \"SQ\", \"PYPL\", \"GDOT\"]\n",
    "\n",
    "oil_chem_stocks = [\"NGG\", \"PCG\", \"RDS-B\", \"OXY\", \"MRO\", \"DD\", \"CVX\", \"DOW\", \"XOM\", \"PSX\", \"COP\", \n",
    "              \"HAL\"]\n",
    "\n",
    "travel_stocks = [\"LUV\", \"MAR\", \"ABNB\", \"CCL\", \"RCL\", \"DIS\", \"AAL\", \"JBLU\", \"SAVE\", \"DAL\"]\n",
    "\n",
    "food_consumer_stocks = [\"DRI\", \"GIS\", \"NKE\", \"PG\", \"SHAK\", \"GRUB\", \"KDP\", \"PEP\", \"KO\", \"K\", \"QSR\", \"CMG\",\n",
    "              \"YUM\", \"BGS\", \"ACI\", \"DAR\", \"KR\", \"GE\", \"GOOS\", \"HD\", \"LULU\", \"DPZ\", \"SBUX\", \"MMM\",\n",
    "              \"WMT\", \"TGT\", \"COST\", \"JACK\", \"MCD\"]\n",
    "\n",
    "pharma_stocks = [\"CVS\", \"RAD\", \"UNH\", \"LLY\", \"JNJ\", \"BMY\", \"AZN\", \"MRK\", \"ABBV\", \"GILD\", \"PFE\"]\n",
    "\n",
    "defense_infra_stocks = [\"GD\", \"LMT\", \"NOC\", \"BA\", \"CAT\", \"WM\"]\n",
    "\n",
    "auto_stocks = [\"HMC\", \"TM\", \"F\", \"TSLA\", \"GM\"]\n",
    "\n",
    "all_stocks = (weed_stocks + tech_stocks + fin_stocks + oil_chem_stocks \n",
    "                + travel_stocks + food_consumer_stocks + pharma_stocks \n",
    "                + defense_infra_stocks + auto_stocks)"
   ]
  },
  {
   "cell_type": "code",
   "execution_count": null,
   "metadata": {},
   "outputs": [],
   "source": [
    "df = {}\n",
    "\n",
    "# Stock data\n",
    "for stock in all_stocks:\n",
    "    display(stock)\n",
    "    try:\n",
    "        # request company's beta\n",
    "        r = requests.get('https://finnhub.io/api/v1/stock/metric?symbol=' + str(stock) + '&metric=all&token=bvt5fmf48v6rku8bvmn0')\n",
    "        beta = r.json()[\"metric\"][\"beta\"]\n",
    "        if beta == None:\n",
    "            continue\n",
    "        display(beta)\n",
    "\n",
    "        # fill dictionary\n",
    "        df[str(stock)] = float(beta)\n",
    "        \n",
    "    except:\n",
    "        print(\"Exception.. beta is None for \" + str(stock))   \n"
   ]
  },
  {
   "cell_type": "raw",
   "metadata": {},
   "source": []
  },
  {
   "cell_type": "code",
   "execution_count": null,
   "metadata": {},
   "outputs": [],
   "source": [
    "display(df)\n",
    "plt.hist(df)\n",
    "plt.show()"
   ]
  },
  {
   "cell_type": "code",
   "execution_count": null,
   "metadata": {},
   "outputs": [],
   "source": []
  }
 ],
 "metadata": {
  "kernelspec": {
   "display_name": "Python 3",
   "language": "python",
   "name": "python3"
  },
  "language_info": {
   "codemirror_mode": {
    "name": "ipython",
    "version": 3
   },
   "file_extension": ".py",
   "mimetype": "text/x-python",
   "name": "python",
   "nbconvert_exporter": "python",
   "pygments_lexer": "ipython3",
   "version": "3.8.2"
  }
 },
 "nbformat": 4,
 "nbformat_minor": 4
}
